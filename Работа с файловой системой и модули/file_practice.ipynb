{
 "cells": [
  {
   "cell_type": "markdown",
   "metadata": {},
   "source": [
    "1. Переведите содержимое файла purchase_log.txt в словарь purchases вида:\n",
    "{‘1840e0b9d4’: ‘Продукты’, …}"
   ]
  },
  {
   "cell_type": "code",
   "execution_count": 2,
   "metadata": {
    "scrolled": false
   },
   "outputs": [],
   "source": [
    "import json\n",
    "i = 0\n",
    "with open('purchase_log.txt', encoding='UTF-8') as f:\n",
    "    next(f)\n",
    "    formerDict = {}\n",
    "    for line in f:\n",
    "        line = line.strip()\n",
    "        dict_ = json.loads(line)\n",
    "        if dict_[\"user_id\"] in formerDict:\n",
    "            formerDict[dict_[\"user_id\"]] += \",\"+dict_[\"category\"]\n",
    "        else:\n",
    "            formerDict[dict_[\"user_id\"]] = dict_[\"category\"]\n",
    "    with open('purchase_log_output.txt', 'w', encoding='UTF-8') as f:\n",
    "        for key,values in formerDict.items():\n",
    "            string='{\\\"',key,'\\\" : \\\"', values, '\\\"}\\n'\n",
    "            f.writelines(string)\n"
   ]
  },
  {
   "cell_type": "markdown",
   "metadata": {},
   "source": [
    "2. Для каждого user_id в файле visit_log.csv (с данными файлами мы работал на лекции) определите третий столбец с категорией покупки (если покупка была, сам файл visit_log.csv изменять не надо). Запишите в файл funnel.csv визиты из файла visit_log.csv, в которых были покупки с указанием категории"
   ]
  },
  {
   "cell_type": "code",
   "execution_count": 6,
   "metadata": {},
   "outputs": [],
   "source": [
    "with open('visit_log.csv', encoding='UTF-8') as f:\n",
    "    with open('funnel.csv', 'w') as out:\n",
    "        next(f)\n",
    "        line = f.readline()\n",
    "        split = line.split(\",\")\n",
    "        while line:\n",
    "            if split[0] in formerDict:\n",
    "                line=line[:-1]+\",\"+formerDict[split[0]]+\"\\n\"\n",
    "                out.writelines(line)\n",
    "            line = f.readline()\n",
    "            split = line.split(\",\")\n",
    "f.close()\n",
    "out.close()\n",
    "   \n"
   ]
  },
  {
   "cell_type": "markdown",
   "metadata": {},
   "source": [
    "Учтите условия на данные:\n",
    "содержимое purchase_log.txt помещается в оперативную память компьютера\n",
    "содержимое visit_log.csv - нет; используйте только построчную обработку этого файла"
   ]
  }
 ],
 "metadata": {
  "kernelspec": {
   "display_name": "Python 3",
   "language": "python",
   "name": "python3"
  },
  "language_info": {
   "codemirror_mode": {
    "name": "ipython",
    "version": 3
   },
   "file_extension": ".py",
   "mimetype": "text/x-python",
   "name": "python",
   "nbconvert_exporter": "python",
   "pygments_lexer": "ipython3",
   "version": "3.8.3"
  }
 },
 "nbformat": 4,
 "nbformat_minor": 4
}
