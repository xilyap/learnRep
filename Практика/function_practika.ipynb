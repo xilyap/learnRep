{
 "cells": [
  {
   "cell_type": "markdown",
   "metadata": {},
   "source": [
    "Вы работаете секретарем и вам постоянно приходят различные документы. Вы должны быть очень внимательны, чтобы не потерять ни один документ. Каталог документов хранится в следующем виде:"
   ]
  },
  {
   "cell_type": "code",
   "execution_count": 43,
   "metadata": {},
   "outputs": [],
   "source": [
    "documents = [\n",
    "    {'type': 'passport', 'number': '2207 876234', 'name': 'Василий Гупкин'},\n",
    "    {'type': 'invoice', 'number': '11-2', 'name': 'Геннадий Покемонов'},\n",
    "    {'type': 'insurance', 'number': '10006', 'name': 'Аристарх Павлов'}\n",
    "]"
   ]
  },
  {
   "cell_type": "code",
   "execution_count": 1,
   "metadata": {},
   "outputs": [],
   "source": [
    "def print_documents(documents):\n",
    "    for doc in documents:\n",
    "        print(doc)"
   ]
  },
  {
   "cell_type": "markdown",
   "metadata": {},
   "source": [
    "Перечень полок, на которых находятся документы хранится в следующем виде:"
   ]
  },
  {
   "cell_type": "code",
   "execution_count": 35,
   "metadata": {},
   "outputs": [],
   "source": [
    "directories = {\n",
    "    '1': ['2207 876234', '11-2'],\n",
    "    '2': ['10006'],\n",
    "    '3': []\n",
    "}"
   ]
  },
  {
   "cell_type": "code",
   "execution_count": 40,
   "metadata": {},
   "outputs": [],
   "source": [
    "def print_directories(directories):\n",
    "    for key,value in directories.items():\n",
    "        print(key,value)"
   ]
  },
  {
   "cell_type": "markdown",
   "metadata": {},
   "source": [
    "Необходимо реализовать пользовательские команды (внимание! это не название функций, которые должны быть выразительными, а команды, которые вводит пользователь, чтобы получить необходимый результат):\n",
    "\n",
    "* p – people – команда, которая спросит номер документа и выведет имя человека, которому он принадлежит;\n",
    "* s – shelf – команда, которая спросит номер документа и выведет номер полки, на которой он находится\n",
    "Правильно обработайте ситуации, когда пользователь будет вводить несуществующий документ.\n",
    "* l – list – команда, которая выведет список всех документов в формате\n",
    "**passport \"2207 876234\" \"Василий Гупкин\"**\n",
    "* as – add shelf – команда, которая спросит номер новой полки и добавит ее в перечень. Предусмотрите случай, когда пользователь добавляет полку, которая уже существует.\n",
    "* d – delete – команда, которая спросит номер документа и удалит его из каталога и из перечня полок. Предусмотрите сценарий, когда пользователь вводит несуществующий документ;\n",
    "* m – move – команда, которая спросит номер документа и целевую полку и переместит его с текущей полки на целевую. Корректно обработайте кейсы, когда пользователь пытается переместить несуществующий документ или переместить документ на несуществующую полку;\n",
    "*  add – команда, которая добавит новый документ в каталог и в перечень полок, спросив его номер, тип, имя владельца и номер полки, на котором он будет храниться. Корректно обработайте ситуацию, когда пользователь будет пытаться добавить документ на несуществующую полку."
   ]
  },
  {
   "cell_type": "code",
   "execution_count": 3,
   "metadata": {},
   "outputs": [
    {
     "name": "stdout",
     "output_type": "stream",
     "text": [
      "Введите командуend\n"
     ]
    }
   ],
   "source": [
    "def main():\n",
    "    while True:\n",
    "        f = False\n",
    "        user_input = input('Введите команду')\n",
    "        if user_input == 'p':\n",
    "            name = input(\"Введите номер документа:\")\n",
    "            for doc in documents:\n",
    "                if doc[\"number\"] == name:\n",
    "                    print(doc[\"name\"])\n",
    "                    f = True\n",
    "                    break\n",
    "            if not(f):\n",
    "                print(\"Человек с данным именем не существует\")\n",
    "        elif user_input == 's':\n",
    "            f = False\n",
    "            name = input(\"Введите номер документа:\")\n",
    "            for shelfName, shelf in directories.items():\n",
    "                if name in shelf:\n",
    "                    print(\"Полка номер \", shelfName)\n",
    "                    f = True\n",
    "                    break\n",
    "            if not(f):\n",
    "                print(\"Документ отсутствует на полке\")\n",
    "        elif user_input == 'l':\n",
    "            print_documents(documents)\n",
    "        elif user_input == 'as':\n",
    "            shelf = input(\"Введите номер полки:\")\n",
    "            if shelf in directories:\n",
    "                print(\"Полка существует\")\n",
    "            else:\n",
    "                directories[shelf] = []\n",
    "        elif user_input == 'd':\n",
    "            name = input(\"Введите номер документа:\")\n",
    "            for shelfName, shelf in directories.items():\n",
    "                if name in shelf:\n",
    "                    shelf.remove(name)\n",
    "            for record in documents:\n",
    "                if record[\"number\"] == name:\n",
    "                    documents.remove(record)\n",
    "        elif user_input == 'm':\n",
    "            number = input(\"Введите номер документа: \")\n",
    "            shel = input(\"Введите целевую полку\")\n",
    "            if any(d['number'] == number for d in documents):\n",
    "                if shel in directories:\n",
    "                    for dir, shelf in directories.items():\n",
    "                        if number in shelf:\n",
    "                            shelf.remove(number)\n",
    "                    directories[dir].append(number)\n",
    "                    print(\"Готово!\")\n",
    "                    continue\n",
    "                print(\"Данной полки не существует\")\n",
    "                continue\n",
    "            print(\"Данного человека не существует\")\n",
    "        elif user_input == 'add':\n",
    "            rcrd = {'type': input(\"Введите тип документа: \"), 'number': input(\"Введите номер документа: \"),\n",
    "                    'name': input(\"Введите имя владельца: \")}\n",
    "            shel = input(\"Введите целевую полку\")\n",
    "            if shel in directories:\n",
    "                if not (rcrd in documents):\n",
    "                    directories[shel].append(rcrd['number'])\n",
    "                    documents.append(rcrd)\n",
    "                    print(\"Успешно добавлен!\")\n",
    "                    continue\n",
    "                print(\"Данный пользователь уже существует\")\n",
    "                continue\n",
    "            print(\"Введённая полка не существует\")\n",
    "        elif user_input == 'end':\n",
    "            break\n",
    "\n",
    "main()"
   ]
  },
  {
   "cell_type": "code",
   "execution_count": null,
   "metadata": {},
   "outputs": [],
   "source": []
  }
 ],
 "metadata": {
  "kernelspec": {
   "display_name": "Python 3",
   "language": "python",
   "name": "python3"
  },
  "language_info": {
   "codemirror_mode": {
    "name": "ipython",
    "version": 3
   },
   "file_extension": ".py",
   "mimetype": "text/x-python",
   "name": "python",
   "nbconvert_exporter": "python",
   "pygments_lexer": "ipython3",
   "version": "3.8.3"
  }
 },
 "nbformat": 4,
 "nbformat_minor": 4
}
