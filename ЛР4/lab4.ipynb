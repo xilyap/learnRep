{
 "cells": [
  {
   "cell_type": "markdown",
   "metadata": {},
   "source": [
    "Задание 1\n",
    "Печатные газеты использовали свой формат дат для каждого выпуска. Для каждой газеты из списка напишите формат указанной даты для перевода в объект datetime:\n",
    "The Moscow Times - Wednesday, October 2, 2002\n",
    "The Guardian - Friday, 11.10.13\n",
    "Daily News - Thursday, 18 August 1977"
   ]
  },
  {
   "cell_type": "code",
   "execution_count": 5,
   "metadata": {},
   "outputs": [
    {
     "name": "stdout",
     "output_type": "stream",
     "text": [
      "2002-10-02 00:00:00\n",
      "2013-10-11 00:00:00\n",
      "1977-08-18 00:00:00\n"
     ]
    }
   ],
   "source": [
    "import datetime\n",
    "Moscow_Format = 'The Moscow Times - %A, %B %d, %Y'\n",
    "The_Guardian_Format = 'The Guardian - %A, %d.%m.%y'\n",
    "Daily_News_Format = 'Daily News - %A, %d %B  %Y'\n",
    "\n",
    "Moscow_Times = datetime.date(2012, 12, 14)\n",
    "Moscow_Times = datetime.datetime.strptime('The Moscow Times - Wednesday, October 2, 2002',Moscow_Format)\n",
    "\n",
    "The_Guardian = datetime.date(2012, 12, 14)\n",
    "The_Guardian = datetime.datetime.strptime('The Guardian - Friday, 11.10.13',The_Guardian_Format)\n",
    "\n",
    "Daily_News = datetime.date(2012, 12, 14)\n",
    "Daily_News = datetime.datetime.strptime('Daily News - Thursday, 18 August 1977',Daily_News_Format)\n",
    "\n",
    "print(Moscow_Times)\n",
    "print(The_Guardian)\n",
    "print(Daily_News)"
   ]
  },
  {
   "cell_type": "markdown",
   "metadata": {},
   "source": [
    "Задание 2\n",
    "Дан поток дат в формате YYYY-MM-DD, в которых встречаются некорректные значения:\n",
    "stream = [‘2018-04-02’, ‘2018-02-29’, ‘2018-19-02’]\n",
    "\n",
    "Напишите функцию, которая проверяет эти даты на корректность. Т. е. для каждой даты возвращает True (дата корректна) или False (некорректная дата).\n"
   ]
  },
  {
   "cell_type": "code",
   "execution_count": 5,
   "metadata": {},
   "outputs": [
    {
     "name": "stdout",
     "output_type": "stream",
     "text": [
      "2018-02-29  is incorrect\n",
      "2018-19-02  is incorrect\n",
      "Correct items:  2018-19-02\n"
     ]
    }
   ],
   "source": [
    "stream = ['2018-04-02', '2018-02-29', '2018-19-02']\n",
    "new_stream = []\n",
    "form = \"%Y-%m-%d\"\n",
    "for item in stream:\n",
    "    try:\n",
    "        dt = datetime.datetime.strptime(item, form)\n",
    "        new_stream.append(item)\n",
    "    except ValueError:\n",
    "        print(item, \" is incorrect\")\n",
    "print('Correct items: ', item)\n"
   ]
  },
  {
   "cell_type": "markdown",
   "metadata": {},
   "source": [
    "Задание 3\n",
    "Напишите функцию date_range, которая возвращает список дат за период от start_date до end_date. Даты должны вводиться в формате YYYY-MM-DD. В случае неверного формата или при start_date > end_date должен возвращаться пустой список.\n"
   ]
  },
  {
   "cell_type": "code",
   "execution_count": 6,
   "metadata": {},
   "outputs": [
    {
     "name": "stdout",
     "output_type": "stream",
     "text": [
      "2018-01-01 00:00:00\n",
      "2018-01-02 00:00:00\n",
      "2018-01-03 00:00:00\n",
      "2018-01-04 00:00:00\n",
      "2018-01-05 00:00:00\n",
      "2018-01-06 00:00:00\n",
      "2018-01-07 00:00:00\n",
      "2018-01-08 00:00:00\n",
      "2018-01-09 00:00:00\n",
      "2018-01-10 00:00:00\n",
      "2018-01-11 00:00:00\n",
      "2018-01-12 00:00:00\n",
      "2018-01-13 00:00:00\n",
      "2018-01-14 00:00:00\n",
      "2018-01-15 00:00:00\n",
      "2018-01-16 00:00:00\n",
      "2018-01-17 00:00:00\n",
      "2018-01-18 00:00:00\n",
      "2018-01-19 00:00:00\n",
      "2018-01-20 00:00:00\n",
      "2018-01-21 00:00:00\n",
      "2018-01-22 00:00:00\n",
      "2018-01-23 00:00:00\n",
      "2018-01-24 00:00:00\n",
      "2018-01-25 00:00:00\n",
      "2018-01-26 00:00:00\n",
      "2018-01-27 00:00:00\n",
      "2018-01-28 00:00:00\n",
      "2018-01-29 00:00:00\n",
      "2018-01-30 00:00:00\n",
      "2018-01-31 00:00:00\n",
      "2018-02-01 00:00:00\n",
      "2018-02-02 00:00:00\n",
      "2018-02-03 00:00:00\n",
      "2018-02-04 00:00:00\n",
      "2018-02-05 00:00:00\n",
      "2018-02-06 00:00:00\n",
      "2018-02-07 00:00:00\n",
      "2018-02-08 00:00:00\n",
      "2018-02-09 00:00:00\n",
      "2018-02-10 00:00:00\n",
      "2018-02-11 00:00:00\n",
      "2018-02-12 00:00:00\n",
      "2018-02-13 00:00:00\n",
      "2018-02-14 00:00:00\n",
      "2018-02-15 00:00:00\n",
      "2018-02-16 00:00:00\n",
      "2018-02-17 00:00:00\n",
      "2018-02-18 00:00:00\n",
      "2018-02-19 00:00:00\n",
      "2018-02-20 00:00:00\n",
      "2018-02-21 00:00:00\n",
      "2018-02-22 00:00:00\n",
      "2018-02-23 00:00:00\n",
      "2018-02-24 00:00:00\n",
      "2018-02-25 00:00:00\n",
      "2018-02-26 00:00:00\n",
      "2018-02-27 00:00:00\n",
      "2018-02-28 00:00:00\n",
      "2018-03-01 00:00:00\n"
     ]
    }
   ],
   "source": [
    "def date_range(start_date, end_date):\n",
    "    try:\n",
    "        start_date = datetime.datetime.strptime(start_date, '%Y-%m-%d')\n",
    "        end_date = datetime.datetime.strptime(end_date, '%Y-%m-%d')\n",
    "        if start_date > end_date:\n",
    "            return []\n",
    "        dd = [start_date + datetime.timedelta(days=x) for x in range((end_date - start_date).days + 1)]\n",
    "\n",
    "        return dd\n",
    "    except ValueError:\n",
    "        return []\n",
    "\n",
    "\n",
    "list = date_range('2018-01-01', '2018-03-01')\n",
    "for item in list:\n",
    "    print(item)\n"
   ]
  },
  {
   "cell_type": "markdown",
   "metadata": {},
   "source": [
    "Задание 4\n",
    "Ваш коллега прислал код функции:\n",
    "\n",
    "DEFAULT_USER_COUNT = 3\n",
    "\n",
    "def delete_and_return_last_user(region, default_list=[‘A100’, ‘A101’, ‘A102’]):\n",
    "\"\"“\n",
    "Удаляет из списка default_list последнего пользователя\n",
    "и возвращает ID нового последнего пользователя.\n",
    "”\"\"\n",
    "element_to_delete = default_list[-1]\n",
    "default_list.remove(element_to_delete)\n",
    "\n",
    "return default_list[DEFAULT_USER_COUNT-2]\n",
    "При однократном вызове этой функции все работает корректно:\n",
    "delete_and_return_last_user(1)\n",
    "‘A101’\n",
    "\n",
    "Однако, при повторном вызове получается ошибка IndexError: list index out of range.\n",
    "\n",
    "Задание:\n",
    "\n",
    "1. Что значит ошибка list index out of range?\n",
    "2. Почему при первом запуске функция работает корректно, а при втором - нет?"
   ]
  },
  {
   "cell_type": "markdown",
   "metadata": {},
   "source": [
    "Ответ: \n",
    "1. list index out of range - ошибка, обозначающая выход за пределы списка\n",
    "2. При каждом выполнении данного кода происходит удаление последнего элемента и возвращается элемент под индексом DEFAULT_USER_COUNT - 2 = 1. При повторном выполнении данного кода, в стандартном списке не остаётся элемента, под индексом 1, что и вызывает ошибку выхода за списка.\n"
   ]
  },
  {
   "cell_type": "code",
   "execution_count": null,
   "metadata": {},
   "outputs": [],
   "source": []
  },
  {
   "cell_type": "code",
   "execution_count": null,
   "metadata": {},
   "outputs": [],
   "source": []
  }
 ],
 "metadata": {
  "kernelspec": {
   "display_name": "Python 3",
   "language": "python",
   "name": "python3"
  },
  "language_info": {
   "codemirror_mode": {
    "name": "ipython",
    "version": 3
   },
   "file_extension": ".py",
   "mimetype": "text/x-python",
   "name": "python",
   "nbconvert_exporter": "python",
   "pygments_lexer": "ipython3",
   "version": "3.8.3"
  }
 },
 "nbformat": 4,
 "nbformat_minor": 4
}
