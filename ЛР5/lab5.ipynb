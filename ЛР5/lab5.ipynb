{
 "cells": [
  {
   "cell_type": "markdown",
   "metadata": {},
   "source": [
    "**Задание 1**\n",
    "Напишите функцию, которая возвращает название валюты (поле ‘Name’) с максимальным значением курса с помощью сервиса https://www.cbr-xml-daily.ru/daily_json.js\n"
   ]
  },
  {
   "cell_type": "code",
   "execution_count": 5,
   "metadata": {
    "scrolled": true
   },
   "outputs": [
    {
     "data": {
      "text/plain": [
       "'СДР (специальные права заимствования)'"
      ]
     },
     "execution_count": 5,
     "metadata": {},
     "output_type": "execute_result"
    }
   ],
   "source": [
    "from libs.exchange import Rate\n",
    "Rate().find_max()"
   ]
  },
  {
   "cell_type": "markdown",
   "metadata": {},
   "source": [
    "**Задание 2**\n",
    "Добавьте в класс Rate параметр diff (со значениями True или False), который в случае значения True в методах курсов валют (eur, usd итд) будет возвращать не курс валюты, а изменение по сравнению в прошлым значением. Считайте, self.diff будет принимать значение True только при возврате значения курса. При отображении всей информации о валюте он не используется.\n"
   ]
  },
  {
   "cell_type": "code",
   "execution_count": 9,
   "metadata": {},
   "outputs": [
    {
     "name": "stdout",
     "output_type": "stream",
     "text": [
      "Course diff:  1.0131999999999977\n",
      "Course :  79.6845\n"
     ]
    }
   ],
   "source": [
    "rate = Rate()\n",
    "print(\"Course diff: \",rate.usd())\n",
    "rate.diff = False\n",
    "print(\"Course : \",rate.usd())"
   ]
  },
  {
   "cell_type": "markdown",
   "metadata": {},
   "source": [
    "**Задание 3**\n",
    "Напишите класс Designer, который учитывает количество международных премий для дизайнеров (из презентации: \"Повышение на 1 грейд за каждые 7 баллов. Получение международной премии – это +2 балла\" для каждой аккредитации увеличиваем счетчик на 1, пока считаем, что все дизайнеры проходят аккредитацию). Считайте, что при выходе на работу сотрудник уже имеет две премии и их количество меняется со стажем (получение премии генератор случайных чисел ). Выполните проверку для 20 аккредитаций дизайнера Елены. Подсказки в коде занятия в разделе “Домашнее задание задача 3”.\n"
   ]
  },
  {
   "cell_type": "code",
   "execution_count": 32,
   "metadata": {},
   "outputs": [],
   "source": [
    "import random\n",
    "class Designer:\n",
    "    def __init__(self, name, seniority,awards = 2):\n",
    "        random.seed()\n",
    "        self.name = name\n",
    "        self.seniority = seniority\n",
    "        self.awards = awards\n",
    "        self.grade = 1\n",
    "    \n",
    "    def grade_up(self):\n",
    "        \"\"\"Повышает уровень сотрудника\"\"\"\n",
    "        self.grade += 1\n",
    "    \n",
    "    def publish_grade(self):\n",
    "        \"\"\"Публикация результатов аккредитации дизайнера\"\"\"\n",
    "        print(self.name,\"Уровень дизайнера: \", self.grade, \" Премий: \", self.awards)\n",
    "    \n",
    "    def check_if_it_is_time_for_upgrade(self):\n",
    "        self.seniority += 1\n",
    "        self.awards+= random.randint(0, 2)\n",
    "        # условие повышения сотрудника из презентации\n",
    "        if self.seniority % 7 == 0:\n",
    "            self.grade_up()\n",
    "        \n",
    "        # публикация результатов\n",
    "        return self.publish_grade()"
   ]
  },
  {
   "cell_type": "code",
   "execution_count": 34,
   "metadata": {},
   "outputs": [
    {
     "name": "stdout",
     "output_type": "stream",
     "text": [
      "Елена Уровень дизайнера:  1  Премий:  4\n",
      "Елена Уровень дизайнера:  1  Премий:  5\n",
      "Елена Уровень дизайнера:  1  Премий:  7\n",
      "Елена Уровень дизайнера:  1  Премий:  7\n",
      "Елена Уровень дизайнера:  1  Премий:  9\n",
      "Елена Уровень дизайнера:  1  Премий:  10\n",
      "Елена Уровень дизайнера:  2  Премий:  10\n",
      "Елена Уровень дизайнера:  2  Премий:  11\n",
      "Елена Уровень дизайнера:  2  Премий:  13\n",
      "Елена Уровень дизайнера:  2  Премий:  14\n",
      "Елена Уровень дизайнера:  2  Премий:  15\n",
      "Елена Уровень дизайнера:  2  Премий:  15\n",
      "Елена Уровень дизайнера:  2  Премий:  17\n",
      "Елена Уровень дизайнера:  3  Премий:  17\n",
      "Елена Уровень дизайнера:  3  Премий:  19\n",
      "Елена Уровень дизайнера:  3  Премий:  21\n",
      "Елена Уровень дизайнера:  3  Премий:  23\n",
      "Елена Уровень дизайнера:  3  Премий:  23\n",
      "Елена Уровень дизайнера:  3  Премий:  23\n",
      "Елена Уровень дизайнера:  3  Премий:  23\n"
     ]
    }
   ],
   "source": [
    "elena = Designer('Елена', seniority=0, awards=2)\n",
    "for i in range(20):\n",
    "    elena.check_if_it_is_time_for_upgrade()"
   ]
  },
  {
   "cell_type": "code",
   "execution_count": null,
   "metadata": {},
   "outputs": [],
   "source": []
  }
 ],
 "metadata": {
  "kernelspec": {
   "display_name": "Python 3",
   "language": "python",
   "name": "python3"
  },
  "language_info": {
   "codemirror_mode": {
    "name": "ipython",
    "version": 3
   },
   "file_extension": ".py",
   "mimetype": "text/x-python",
   "name": "python",
   "nbconvert_exporter": "python",
   "pygments_lexer": "ipython3",
   "version": "3.8.3"
  }
 },
 "nbformat": 4,
 "nbformat_minor": 4
}
